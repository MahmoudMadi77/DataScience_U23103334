{
  "cells": [
    {
      "cell_type": "markdown",
      "metadata": {
        "id": "view-in-github",
        "colab_type": "text"
      },
      "source": [
        "<a href=\"https://colab.research.google.com/github/MahmoudMadi77/DataScience_U23103334/blob/main/Activity2_questions_U23103334.ipynb\" target=\"_parent\"><img src=\"https://colab.research.google.com/assets/colab-badge.svg\" alt=\"Open In Colab\"/></a>"
      ]
    },
    {
      "cell_type": "markdown",
      "metadata": {
        "id": "9Hr2lLFuZjja"
      },
      "source": [
        "# Activity #2 (5 marks) Mahmoud S. M. Madi  |  U23103334"
      ]
    },
    {
      "cell_type": "markdown",
      "metadata": {
        "id": "bEtXiTwI-yIv"
      },
      "source": [
        "\n",
        "Class Activity: Analyzing NYC Hyperlocal Air Quality Data with Spatial Join"
      ]
    },
    {
      "cell_type": "markdown",
      "metadata": {
        "id": "6i3-zemYyZAu"
      },
      "source": [
        "# Objective:\n",
        "- This activity reinforces concepts from Chapters 6 (Tables), 7 (Visualization), 8 (Functions and Tables), and 9 (Randomness). Students will analyze NYC hyperlocal air quality data using Python in a Jupyter Notebook (Google Colab). The focus will be on leveraging the Table abstraction wherever possible. Additionally, students will use spatial join techniques to combine air quality sensor readings with geographic data."
      ]
    },
    {
      "cell_type": "markdown",
      "metadata": {
        "id": "MnPCkUN9-lzy"
      },
      "source": [
        "given a csv file containing longitude, latitude , and pm10  columns [Air Quality data](https://raw.githubusercontent.com/IsamAljawarneh/datasets/master/data/NYC_PM.csv) representing readings of low cost air quality sensor mounted on moving vehicles, in addition to a geojson file containing polygons representing administrative divisions of NYC city known as neighbourhoods [nyc_polygon.geojson](https://raw.githubusercontent.com/IsamAljawarneh/datasets/master/data/nyc_polygon.geojson).\n",
        "# Dataset Description\n",
        "- Air Quality Sensor Readings (NYC_PM.csv) :\n",
        "Attributes: SensorID, time, temperature, humidity, pm25,\n",
        "Focus attributes: temperature, humidity, pm1,pm25,pm10,\n",
        "- City Polygons (nyc_polygon.geojson) :\n",
        "Contains polygons representing neighborhoods or boroughs in NYC.\n",
        "Used for spatially joining geographic information with air quality data."
      ]
    },
    {
      "cell_type": "markdown",
      "metadata": {
        "id": "_kuVRsJkAh9n"
      },
      "source": [
        "## **part - A** preprocessing [0 marks]\n",
        "\n",
        "do all tasks and the subtasks!"
      ]
    },
    {
      "cell_type": "markdown",
      "metadata": {
        "id": "cXRH1R-SzPAs"
      },
      "source": [
        "# Onboarding Code Provided\n",
        "- The following code will be provided in an onboarding Jupyter Notebook to help students get started:\n",
        "\n"
      ]
    },
    {
      "cell_type": "code",
      "execution_count": null,
      "metadata": {
        "colab": {
          "base_uri": "https://localhost:8080/",
          "height": 36
        },
        "id": "R4ArO-FctZIu",
        "outputId": "9a81603c-6c0f-4f9c-aef6-5cbeb860de2b"
      },
      "outputs": [
        {
          "data": {
            "application/vnd.google.colaboratory.intrinsic+json": {
              "type": "string"
            },
            "text/plain": [
              "\"from google.colab import drive\\ndrive.mount('/content/drive')\""
            ]
          },
          "execution_count": 9,
          "metadata": {},
          "output_type": "execute_result"
        }
      ],
      "source": [
        "'''from google.colab import drive\n",
        "drive.mount('/content/drive')'''"
      ]
    },
    {
      "cell_type": "markdown",
      "metadata": {
        "id": "9o9eM8IICM-1"
      },
      "source": [
        "import necessary libraries"
      ]
    },
    {
      "cell_type": "code",
      "execution_count": 1,
      "metadata": {
        "id": "DIyY1q36ta3G"
      },
      "outputs": [],
      "source": [
        "import pandas as pd\n",
        "import geopandas as gpd\n",
        "import numpy as np\n",
        "import matplotlib.pyplot as plt"
      ]
    },
    {
      "cell_type": "code",
      "execution_count": 3,
      "metadata": {
        "id": "8ipkPRynmWGz"
      },
      "outputs": [],
      "source": [
        "from datascience import *\n",
        "%matplotlib inline\n",
        "#path_data = '../../../assets/data/'\n",
        "import matplotlib.pyplot as plt\n",
        "plt.style.use('fivethirtyeight')\n",
        "import numpy as np"
      ]
    },
    {
      "cell_type": "markdown",
      "metadata": {
        "id": "11VvbD-a6ur8"
      },
      "source": [
        "###1. Read the CSV file containing PM sensor readings\n",
        " & Read the GeoJSON file containing neighborhood boundaries into a GeoDataFrame"
      ]
    },
    {
      "cell_type": "code",
      "execution_count": 4,
      "metadata": {
        "id": "CYk7KfJqueQW"
      },
      "outputs": [],
      "source": [
        "\n",
        "# Step 1: Read the CSV file containing PM10 sensor readings\n",
        "pm10_data = pd.read_csv('https://raw.githubusercontent.com/IsamAljawarneh/datasets/master/data/NYC_PM.csv',index_col=False)\n",
        "\n",
        "# Step 2: Read the GeoJSON file containing neighborhood boundaries into a GeoDataFrame\n",
        "nyc_neighborhoods = gpd.read_file('https://raw.githubusercontent.com/IsamAljawarneh/datasets/master/data/nyc_polygon.geojson')\n"
      ]
    },
    {
      "cell_type": "code",
      "execution_count": 5,
      "metadata": {
        "id": "VAMLIDAKu289"
      },
      "outputs": [],
      "source": [
        "#pm10_data.dtypes"
      ]
    },
    {
      "cell_type": "markdown",
      "metadata": {
        "id": "tKKuGLIl682s"
      },
      "source": [
        "### 2. convert the csv into a geodataframe and join it (sjoin) with the geojson, assign a coordinate reference system (CRS) the csv geodataframe which is identical to that of the geojson file, then perform the join, the result is a geodataframe, convert it to dataframe, and select pm10, neighborhood columns in a new dataframe"
      ]
    },
    {
      "cell_type": "code",
      "execution_count": 6,
      "metadata": {
        "colab": {
          "base_uri": "https://localhost:8080/"
        },
        "id": "LDdZ3JM9vABk",
        "outputId": "a52c4fcc-02e7-451f-a116-ecf407f695fe"
      },
      "outputs": [
        {
          "output_type": "stream",
          "name": "stderr",
          "text": [
            "<ipython-input-6-d43866676e2a>:2: UserWarning: CRS mismatch between the CRS of left geometries and the CRS of right geometries.\n",
            "Use `to_crs()` to reproject one of the input geometries to match the CRS of the other.\n",
            "\n",
            "Left CRS: None\n",
            "Right CRS: EPSG:4326\n",
            "\n",
            "  merged_data = gpd.sjoin(pm10_gdf, nyc_neighborhoods, how='inner', predicate='within')\n"
          ]
        }
      ],
      "source": [
        "pm10_gdf = gpd.GeoDataFrame(pm10_data, geometry=gpd.points_from_xy(pm10_data.longitude, pm10_data.latitude))\n",
        "merged_data = gpd.sjoin(pm10_gdf, nyc_neighborhoods, how='inner', predicate='within')"
      ]
    },
    {
      "cell_type": "code",
      "execution_count": 7,
      "metadata": {
        "id": "4YTL56jpvPDW"
      },
      "outputs": [],
      "source": [
        "#merged_data.dtypes"
      ]
    },
    {
      "cell_type": "code",
      "execution_count": 8,
      "metadata": {
        "id": "1XPU0kp4hwnf"
      },
      "outputs": [],
      "source": [
        "pollution_data = merged_data[['pm10','neighborhood']]"
      ]
    },
    {
      "cell_type": "code",
      "execution_count": 9,
      "metadata": {
        "colab": {
          "base_uri": "https://localhost:8080/"
        },
        "id": "T3gx_my1iAoi",
        "outputId": "da5ef856-17a1-4623-c369-81056e3ebe1a"
      },
      "outputs": [
        {
          "output_type": "execute_result",
          "data": {
            "text/plain": [
              "118495"
            ]
          },
          "metadata": {},
          "execution_count": 9
        }
      ],
      "source": [
        "pollution_data.shape[0]"
      ]
    },
    {
      "cell_type": "code",
      "execution_count": 10,
      "metadata": {
        "id": "P4M9bOYqy09e"
      },
      "outputs": [],
      "source": [
        "#merged_data.rename(columns={'neighborhood': 'neighborhood1'}, inplace=True)"
      ]
    },
    {
      "cell_type": "code",
      "execution_count": 11,
      "metadata": {
        "colab": {
          "base_uri": "https://localhost:8080/",
          "height": 204
        },
        "id": "a8C-waCXk8JE",
        "outputId": "56daebac-7333-470e-dc74-c41eb63ca877"
      },
      "outputs": [
        {
          "output_type": "execute_result",
          "data": {
            "text/plain": [
              "pandas.core.frame.DataFrame"
            ],
            "text/html": [
              "<div style=\"max-width:800px; border: 1px solid var(--colab-border-color);\"><style>\n",
              "      pre.function-repr-contents {\n",
              "        overflow-x: auto;\n",
              "        padding: 8px 12px;\n",
              "        max-height: 500px;\n",
              "      }\n",
              "\n",
              "      pre.function-repr-contents.function-repr-contents-collapsed {\n",
              "        cursor: pointer;\n",
              "        max-height: 100px;\n",
              "      }\n",
              "    </style>\n",
              "    <pre style=\"white-space: initial; background:\n",
              "         var(--colab-secondary-surface-color); padding: 8px 12px;\n",
              "         border-bottom: 1px solid var(--colab-border-color);\"><b>pandas.core.frame.DataFrame</b><br/>def __init__(data=None, index: Axes | None=None, columns: Axes | None=None, dtype: Dtype | None=None, copy: bool | None=None) -&gt; None</pre><pre class=\"function-repr-contents function-repr-contents-collapsed\" style=\"\"><a class=\"filepath\" style=\"display:none\" href=\"#\">/usr/local/lib/python3.11/dist-packages/pandas/core/frame.py</a>Two-dimensional, size-mutable, potentially heterogeneous tabular data.\n",
              "\n",
              "Data structure also contains labeled axes (rows and columns).\n",
              "Arithmetic operations align on both row and column labels. Can be\n",
              "thought of as a dict-like container for Series objects. The primary\n",
              "pandas data structure.\n",
              "\n",
              "Parameters\n",
              "----------\n",
              "data : ndarray (structured or homogeneous), Iterable, dict, or DataFrame\n",
              "    Dict can contain Series, arrays, constants, dataclass or list-like objects. If\n",
              "    data is a dict, column order follows insertion-order. If a dict contains Series\n",
              "    which have an index defined, it is aligned by its index. This alignment also\n",
              "    occurs if data is a Series or a DataFrame itself. Alignment is done on\n",
              "    Series/DataFrame inputs.\n",
              "\n",
              "    If data is a list of dicts, column order follows insertion-order.\n",
              "\n",
              "index : Index or array-like\n",
              "    Index to use for resulting frame. Will default to RangeIndex if\n",
              "    no indexing information part of input data and no index provided.\n",
              "columns : Index or array-like\n",
              "    Column labels to use for resulting frame when data does not have them,\n",
              "    defaulting to RangeIndex(0, 1, 2, ..., n). If data contains column labels,\n",
              "    will perform column selection instead.\n",
              "dtype : dtype, default None\n",
              "    Data type to force. Only a single dtype is allowed. If None, infer.\n",
              "copy : bool or None, default None\n",
              "    Copy data from inputs.\n",
              "    For dict data, the default of None behaves like ``copy=True``.  For DataFrame\n",
              "    or 2d ndarray input, the default of None behaves like ``copy=False``.\n",
              "    If data is a dict containing one or more Series (possibly of different dtypes),\n",
              "    ``copy=False`` will ensure that these inputs are not copied.\n",
              "\n",
              "    .. versionchanged:: 1.3.0\n",
              "\n",
              "See Also\n",
              "--------\n",
              "DataFrame.from_records : Constructor from tuples, also record arrays.\n",
              "DataFrame.from_dict : From dicts of Series, arrays, or dicts.\n",
              "read_csv : Read a comma-separated values (csv) file into DataFrame.\n",
              "read_table : Read general delimited file into DataFrame.\n",
              "read_clipboard : Read text from clipboard into DataFrame.\n",
              "\n",
              "Notes\n",
              "-----\n",
              "Please reference the :ref:`User Guide &lt;basics.dataframe&gt;` for more information.\n",
              "\n",
              "Examples\n",
              "--------\n",
              "Constructing DataFrame from a dictionary.\n",
              "\n",
              "&gt;&gt;&gt; d = {&#x27;col1&#x27;: [1, 2], &#x27;col2&#x27;: [3, 4]}\n",
              "&gt;&gt;&gt; df = pd.DataFrame(data=d)\n",
              "&gt;&gt;&gt; df\n",
              "   col1  col2\n",
              "0     1     3\n",
              "1     2     4\n",
              "\n",
              "Notice that the inferred dtype is int64.\n",
              "\n",
              "&gt;&gt;&gt; df.dtypes\n",
              "col1    int64\n",
              "col2    int64\n",
              "dtype: object\n",
              "\n",
              "To enforce a single dtype:\n",
              "\n",
              "&gt;&gt;&gt; df = pd.DataFrame(data=d, dtype=np.int8)\n",
              "&gt;&gt;&gt; df.dtypes\n",
              "col1    int8\n",
              "col2    int8\n",
              "dtype: object\n",
              "\n",
              "Constructing DataFrame from a dictionary including Series:\n",
              "\n",
              "&gt;&gt;&gt; d = {&#x27;col1&#x27;: [0, 1, 2, 3], &#x27;col2&#x27;: pd.Series([2, 3], index=[2, 3])}\n",
              "&gt;&gt;&gt; pd.DataFrame(data=d, index=[0, 1, 2, 3])\n",
              "   col1  col2\n",
              "0     0   NaN\n",
              "1     1   NaN\n",
              "2     2   2.0\n",
              "3     3   3.0\n",
              "\n",
              "Constructing DataFrame from numpy ndarray:\n",
              "\n",
              "&gt;&gt;&gt; df2 = pd.DataFrame(np.array([[1, 2, 3], [4, 5, 6], [7, 8, 9]]),\n",
              "...                    columns=[&#x27;a&#x27;, &#x27;b&#x27;, &#x27;c&#x27;])\n",
              "&gt;&gt;&gt; df2\n",
              "   a  b  c\n",
              "0  1  2  3\n",
              "1  4  5  6\n",
              "2  7  8  9\n",
              "\n",
              "Constructing DataFrame from a numpy ndarray that has labeled columns:\n",
              "\n",
              "&gt;&gt;&gt; data = np.array([(1, 2, 3), (4, 5, 6), (7, 8, 9)],\n",
              "...                 dtype=[(&quot;a&quot;, &quot;i4&quot;), (&quot;b&quot;, &quot;i4&quot;), (&quot;c&quot;, &quot;i4&quot;)])\n",
              "&gt;&gt;&gt; df3 = pd.DataFrame(data, columns=[&#x27;c&#x27;, &#x27;a&#x27;])\n",
              "...\n",
              "&gt;&gt;&gt; df3\n",
              "   c  a\n",
              "0  3  1\n",
              "1  6  4\n",
              "2  9  7\n",
              "\n",
              "Constructing DataFrame from dataclass:\n",
              "\n",
              "&gt;&gt;&gt; from dataclasses import make_dataclass\n",
              "&gt;&gt;&gt; Point = make_dataclass(&quot;Point&quot;, [(&quot;x&quot;, int), (&quot;y&quot;, int)])\n",
              "&gt;&gt;&gt; pd.DataFrame([Point(0, 0), Point(0, 3), Point(2, 3)])\n",
              "   x  y\n",
              "0  0  0\n",
              "1  0  3\n",
              "2  2  3\n",
              "\n",
              "Constructing DataFrame from Series/DataFrame:\n",
              "\n",
              "&gt;&gt;&gt; ser = pd.Series([1, 2, 3], index=[&quot;a&quot;, &quot;b&quot;, &quot;c&quot;])\n",
              "&gt;&gt;&gt; df = pd.DataFrame(data=ser, index=[&quot;a&quot;, &quot;c&quot;])\n",
              "&gt;&gt;&gt; df\n",
              "   0\n",
              "a  1\n",
              "c  3\n",
              "\n",
              "&gt;&gt;&gt; df1 = pd.DataFrame([1, 2, 3], index=[&quot;a&quot;, &quot;b&quot;, &quot;c&quot;], columns=[&quot;x&quot;])\n",
              "&gt;&gt;&gt; df2 = pd.DataFrame(data=df1, index=[&quot;a&quot;, &quot;c&quot;])\n",
              "&gt;&gt;&gt; df2\n",
              "   x\n",
              "a  1\n",
              "c  3</pre>\n",
              "      <script>\n",
              "      if (google.colab.kernel.accessAllowed && google.colab.files && google.colab.files.view) {\n",
              "        for (const element of document.querySelectorAll('.filepath')) {\n",
              "          element.style.display = 'block'\n",
              "          element.onclick = (event) => {\n",
              "            event.preventDefault();\n",
              "            event.stopPropagation();\n",
              "            google.colab.files.view(element.textContent, 509);\n",
              "          };\n",
              "        }\n",
              "      }\n",
              "      for (const element of document.querySelectorAll('.function-repr-contents')) {\n",
              "        element.onclick = (event) => {\n",
              "          event.preventDefault();\n",
              "          event.stopPropagation();\n",
              "          element.classList.toggle('function-repr-contents-collapsed');\n",
              "        };\n",
              "      }\n",
              "      </script>\n",
              "      </div>"
            ]
          },
          "metadata": {},
          "execution_count": 11
        }
      ],
      "source": [
        "type(pollution_data)"
      ]
    },
    {
      "cell_type": "markdown",
      "metadata": {
        "id": "ajH-jZyp8neJ"
      },
      "source": [
        "3. you need to convert</h1></section> from dataframe to Datascience Table. Use the following format: ```Table.from_df(df, keep_index=False)``` read more here\n",
        "[create DS Table from DF](https://www.data8.org/datascience/_autosummary/datascience.tables.Table.from_df.html)\n",
        "\n",
        "**N.B.** <font color='red'>NOW, perform all tasks using the table abstraction as we have learned in the class!</font>"
      ]
    },
    {
      "cell_type": "code",
      "execution_count": 12,
      "metadata": {
        "id": "5CdGgA4uqt8I"
      },
      "outputs": [],
      "source": [
        "pm10_table = Table.from_df(pm10_gdf, keep_index=False)\n",
        "merged_table = Table.from_df(merged_data, keep_index=False)"
      ]
    },
    {
      "cell_type": "markdown",
      "metadata": {
        "id": "ansU7tkQ9cj5"
      },
      "source": [
        "the following is the opposite:\n",
        "\n",
        "[Table.to_df](https://www.data8.org/datascience/_autosummary/datascience.tables.Table.to_df.html)"
      ]
    },
    {
      "cell_type": "markdown",
      "metadata": {
        "id": "2zHvKSpo7nX0"
      },
      "source": [
        "what is the maximum pm10 value"
      ]
    },
    {
      "cell_type": "code",
      "execution_count": 13,
      "metadata": {
        "colab": {
          "base_uri": "https://localhost:8080/"
        },
        "id": "A-Ikgdphzdha",
        "outputId": "cd93d509-c6c7-4421-e57f-d863af7cea99"
      },
      "outputs": [
        {
          "output_type": "execute_result",
          "data": {
            "text/plain": [
              "87341.71"
            ]
          },
          "metadata": {},
          "execution_count": 13
        }
      ],
      "source": [
        "pollution_data['pm10'].max()"
      ]
    },
    {
      "cell_type": "markdown",
      "metadata": {
        "id": "RgKB2UJo7rWW"
      },
      "source": [
        "what is the maximum pm10 value"
      ]
    },
    {
      "cell_type": "code",
      "execution_count": 14,
      "metadata": {
        "colab": {
          "base_uri": "https://localhost:8080/"
        },
        "id": "qqANkwbXzmF5",
        "outputId": "a2c41c8f-b582-4dcf-f24f-a792567d098b"
      },
      "outputs": [
        {
          "output_type": "execute_result",
          "data": {
            "text/plain": [
              "0.0"
            ]
          },
          "metadata": {},
          "execution_count": 14
        }
      ],
      "source": [
        "pollution_data['pm10'].min()"
      ]
    },
    {
      "cell_type": "code",
      "execution_count": 15,
      "metadata": {
        "id": "zsjLIScVmM9a"
      },
      "outputs": [],
      "source": [
        "joined_table = Table().from_df(pollution_data)"
      ]
    },
    {
      "cell_type": "markdown",
      "metadata": {
        "id": "KsUXysj_B1T9"
      },
      "source": [
        "show the first few rows of the table?"
      ]
    },
    {
      "cell_type": "code",
      "execution_count": 16,
      "metadata": {
        "colab": {
          "base_uri": "https://localhost:8080/",
          "height": 141
        },
        "id": "lhgoak8vzEfS",
        "outputId": "9e0fe0e9-c17c-45be-9ad4-6ba964916a5c"
      },
      "outputs": [
        {
          "output_type": "display_data",
          "data": {
            "text/plain": [
              "<IPython.core.display.HTML object>"
            ],
            "text/html": [
              "<table border=\"1\" class=\"dataframe\">\n",
              "    <thead>\n",
              "        <tr>\n",
              "            <th>pm10</th> <th>neighborhood</th>\n",
              "        </tr>\n",
              "    </thead>\n",
              "    <tbody>\n",
              "        <tr>\n",
              "            <td>11.35</td> <td>Bronx Park  </td>\n",
              "        </tr>\n",
              "        <tr>\n",
              "            <td>1.18 </td> <td>Bronx Park  </td>\n",
              "        </tr>\n",
              "    </tbody>\n",
              "</table>\n",
              "<p>... (118493 rows omitted)</p>"
            ]
          },
          "metadata": {}
        }
      ],
      "source": [
        "joined_table.show(2)"
      ]
    },
    {
      "cell_type": "markdown",
      "metadata": {
        "id": "zgAZOxbYB56N"
      },
      "source": [
        "print minimum and maximum pm10 values?"
      ]
    },
    {
      "cell_type": "code",
      "execution_count": 17,
      "metadata": {
        "colab": {
          "base_uri": "https://localhost:8080/"
        },
        "id": "19ncrqo0y8l5",
        "outputId": "c0014afb-2006-45f9-911c-2c3bee98cf14"
      },
      "outputs": [
        {
          "output_type": "execute_result",
          "data": {
            "text/plain": [
              "(0.0, 87341.710000000006)"
            ]
          },
          "metadata": {},
          "execution_count": 17
        }
      ],
      "source": [
        "pm10 = joined_table.column('pm10')\n",
        "min(pm10), max(pm10)"
      ]
    },
    {
      "cell_type": "markdown",
      "metadata": {
        "id": "kkbu-cal0QRc"
      },
      "source": [
        "# Instructions for Students\n",
        "-You task is to analyze NYC hyperlocal air quality data using the provided dataset. Complete the following tasks in your Jupyter Notebook. Each task is worth 1 mark , for a total of 5 marks . Use the Table abstraction wherever possible."
      ]
    },
    {
      "cell_type": "markdown",
      "metadata": {
        "id": "lNeAe-ZH0eL2"
      },
      "source": [
        "# Tasks"
      ]
    },
    {
      "cell_type": "markdown",
      "metadata": {
        "id": "TdamjDqe7vYk"
      },
      "source": [
        "### Task 1: Explore the Joined Data Using Tables (1 Mark)\n",
        "- Display the first 5 rows of the joined_table using .show().\n",
        "- Print the number of rows and columns in the table.\n",
        "- Identify any missing values in the table and handle them appropriately (e.g., drop rows with missing values or fill them with a default value)."
      ]
    },
    {
      "cell_type": "code",
      "execution_count": 18,
      "metadata": {
        "colab": {
          "base_uri": "https://localhost:8080/",
          "height": 236
        },
        "id": "9PLHxakDqt8L",
        "outputId": "72094ecb-3c18-4ac5-b470-83dd8e66e8be"
      },
      "outputs": [
        {
          "output_type": "display_data",
          "data": {
            "text/plain": [
              "<IPython.core.display.HTML object>"
            ],
            "text/html": [
              "<table border=\"1\" class=\"dataframe\">\n",
              "    <thead>\n",
              "        <tr>\n",
              "            <th>pm10</th> <th>neighborhood</th>\n",
              "        </tr>\n",
              "    </thead>\n",
              "    <tbody>\n",
              "        <tr>\n",
              "            <td>11.35</td> <td>Bronx Park  </td>\n",
              "        </tr>\n",
              "        <tr>\n",
              "            <td>1.18 </td> <td>Bronx Park  </td>\n",
              "        </tr>\n",
              "        <tr>\n",
              "            <td>0.76 </td> <td>Bronx Park  </td>\n",
              "        </tr>\n",
              "        <tr>\n",
              "            <td>47.36</td> <td>Bronx Park  </td>\n",
              "        </tr>\n",
              "        <tr>\n",
              "            <td>6.18 </td> <td>Bronx Park  </td>\n",
              "        </tr>\n",
              "    </tbody>\n",
              "</table>\n",
              "<p>... (118490 rows omitted)</p>"
            ]
          },
          "metadata": {}
        }
      ],
      "source": [
        "joined_table.show(5)"
      ]
    },
    {
      "cell_type": "code",
      "execution_count": 19,
      "metadata": {
        "colab": {
          "base_uri": "https://localhost:8080/"
        },
        "id": "Q4iK4896qt8L",
        "outputId": "08340c3b-2c01-42bf-9e4b-18af04204d57"
      },
      "outputs": [
        {
          "output_type": "stream",
          "name": "stdout",
          "text": [
            "rows:  118495 columns:  2\n"
          ]
        }
      ],
      "source": [
        "print (\"rows: \",joined_table.num_rows, \"columns: \", joined_table.num_columns)"
      ]
    },
    {
      "cell_type": "code",
      "execution_count": 20,
      "metadata": {
        "colab": {
          "base_uri": "https://localhost:8080/",
          "height": 49
        },
        "id": "IujdSaPfqt8M",
        "outputId": "dbbcab47-c14b-4fd0-a8c3-ab959d746a6e"
      },
      "outputs": [
        {
          "output_type": "execute_result",
          "data": {
            "text/plain": [
              "pm10 | neighborhood"
            ],
            "text/html": [
              "<table border=\"1\" class=\"dataframe\">\n",
              "    <thead>\n",
              "        <tr>\n",
              "            <th>pm10</th> <th>neighborhood</th>\n",
              "        </tr>\n",
              "    </thead>\n",
              "    <tbody>\n",
              "    </tbody>\n",
              "</table>"
            ]
          },
          "metadata": {},
          "execution_count": 20
        }
      ],
      "source": [
        "joined_table.where(\"pm10\",are.equal_to(None))"
      ]
    },
    {
      "cell_type": "code",
      "execution_count": 21,
      "metadata": {
        "colab": {
          "base_uri": "https://localhost:8080/",
          "height": 49
        },
        "id": "lmjHIrAxqt8N",
        "outputId": "b7d1f5e9-6a33-4473-bfdc-212552df766a"
      },
      "outputs": [
        {
          "output_type": "execute_result",
          "data": {
            "text/plain": [
              "pm10 | neighborhood"
            ],
            "text/html": [
              "<table border=\"1\" class=\"dataframe\">\n",
              "    <thead>\n",
              "        <tr>\n",
              "            <th>pm10</th> <th>neighborhood</th>\n",
              "        </tr>\n",
              "    </thead>\n",
              "    <tbody>\n",
              "    </tbody>\n",
              "</table>"
            ]
          },
          "metadata": {},
          "execution_count": 21
        }
      ],
      "source": [
        "joined_table.where(\"neighborhood\",are.equal_to(None))"
      ]
    },
    {
      "cell_type": "markdown",
      "metadata": {
        "id": "XTjfxfG209Ia"
      },
      "source": [
        "# Task 2: Create Summary Statistics Using Table Operations (1 Mark)\n",
        "\n",
        "- Compute summary statistics (mean, median, min, max) for the attributes temperature, humidity, and pm25 using table operations like .column() and .apply().\n",
        "- Group the data by borough and calculate the average pm25 levels for each borough using .group() or .pivot().\n",
        "- Display the results in a new table."
      ]
    },
    {
      "cell_type": "code",
      "execution_count": 22,
      "metadata": {
        "colab": {
          "base_uri": "https://localhost:8080/",
          "height": 143
        },
        "id": "1HppKPIWqt8U",
        "outputId": "9b5a3fed-ea27-4266-b8ff-6baf587eb77d"
      },
      "outputs": [
        {
          "output_type": "execute_result",
          "data": {
            "text/plain": [
              "Attribute   | mean    | median | min  | max\n",
              "temperature | 8.24488 | 7.2    | -7.9 | 10471\n",
              "humidity    | 50.1592 | 46.3   | 0    | 104.2\n",
              "pm25        | 7.36112 | 3.01   | 0    | 3267.02"
            ],
            "text/html": [
              "<table border=\"1\" class=\"dataframe\">\n",
              "    <thead>\n",
              "        <tr>\n",
              "            <th>Attribute</th> <th>mean</th> <th>median</th> <th>min</th> <th>max</th>\n",
              "        </tr>\n",
              "    </thead>\n",
              "    <tbody>\n",
              "        <tr>\n",
              "            <td>temperature</td> <td>8.24488</td> <td>7.2   </td> <td>-7.9</td> <td>10471  </td>\n",
              "        </tr>\n",
              "        <tr>\n",
              "            <td>humidity   </td> <td>50.1592</td> <td>46.3  </td> <td>0   </td> <td>104.2  </td>\n",
              "        </tr>\n",
              "        <tr>\n",
              "            <td>pm25       </td> <td>7.36112</td> <td>3.01  </td> <td>0   </td> <td>3267.02</td>\n",
              "        </tr>\n",
              "    </tbody>\n",
              "</table>"
            ]
          },
          "metadata": {},
          "execution_count": 22
        }
      ],
      "source": [
        "\n",
        "summary_statistics = Table().with_columns(\n",
        "    \"Attribute\", [\"temperature\",\"humidity\",\"pm25\"],\n",
        "    \"mean\",[np.mean(pm10_table.column(\"temperature\")),np.mean(pm10_table.column(\"humidity\")),np.mean(pm10_table.column(\"pm25\"))],\n",
        "    \"median\",[np.median(pm10_table.column(\"temperature\")),np.median(pm10_table.column(\"humidity\")),np.median(pm10_table.column(\"pm25\"))],\n",
        "    \"min\",[np.min(pm10_table.column(\"temperature\")),np.min(pm10_table.column(\"humidity\")),np.min(pm10_table.column(\"pm25\"))],\n",
        "    \"max\",[np.max(pm10_table.column(\"temperature\")),np.max(pm10_table.column(\"humidity\")),np.max(pm10_table.column(\"pm25\"))]\n",
        ")\n",
        "summary_statistics"
      ]
    },
    {
      "cell_type": "code",
      "execution_count": 23,
      "metadata": {
        "colab": {
          "base_uri": "https://localhost:8080/",
          "height": 175
        },
        "id": "smng-jM9qt8U",
        "outputId": "af9eb21e-3706-44b7-d0c8-a3c5dfb7edf5"
      },
      "outputs": [
        {
          "output_type": "execute_result",
          "data": {
            "text/plain": [
              "borough   | pm25 mean\n",
              "Bronx     | 7.795\n",
              "Brooklyn  | 1.99695\n",
              "Manhattan | 2.37332\n",
              "Queens    | 2.07253"
            ],
            "text/html": [
              "<table border=\"1\" class=\"dataframe\">\n",
              "    <thead>\n",
              "        <tr>\n",
              "            <th>borough</th> <th>pm25 mean</th>\n",
              "        </tr>\n",
              "    </thead>\n",
              "    <tbody>\n",
              "        <tr>\n",
              "            <td>Bronx    </td> <td>7.795    </td>\n",
              "        </tr>\n",
              "        <tr>\n",
              "            <td>Brooklyn </td> <td>1.99695  </td>\n",
              "        </tr>\n",
              "        <tr>\n",
              "            <td>Manhattan</td> <td>2.37332  </td>\n",
              "        </tr>\n",
              "        <tr>\n",
              "            <td>Queens   </td> <td>2.07253  </td>\n",
              "        </tr>\n",
              "    </tbody>\n",
              "</table>"
            ]
          },
          "metadata": {},
          "execution_count": 23
        }
      ],
      "source": [
        "borough_mean_pm25 = merged_table.select(\"borough\",\"pm25\").group(\"borough\",np.mean)\n",
        "borough_mean_pm25"
      ]
    },
    {
      "cell_type": "code",
      "execution_count": 24,
      "metadata": {
        "colab": {
          "base_uri": "https://localhost:8080/"
        },
        "id": "DIf-nipPqt8U",
        "outputId": "bba39bc5-0757-4c72-dac3-a04148e1d750"
      },
      "outputs": [
        {
          "output_type": "stream",
          "name": "stdout",
          "text": [
            "7.79500045701\n",
            "1.99694736842\n",
            "2.37331875342\n",
            "2.07253316488\n"
          ]
        }
      ],
      "source": [
        "Bronx_Average = np.mean(merged_table.where(\"borough\",\"Bronx\").column(\"pm25\"))\n",
        "Brooklyn_Average = np.mean(merged_table.where(\"borough\",\"Brooklyn\").column(\"pm25\"))\n",
        "Manhattan_Average = np.mean(merged_table.where(\"borough\",\"Manhattan\").column(\"pm25\"))\n",
        "Queens_Average = np.mean(merged_table.where(\"borough\",\"Queens\").column(\"pm25\"))\n",
        "print(Bronx_Average)\n",
        "print(Brooklyn_Average)\n",
        "print(Manhattan_Average)\n",
        "print(Queens_Average)"
      ]
    },
    {
      "cell_type": "markdown",
      "metadata": {
        "id": "2SD9uVHI1oNW"
      },
      "source": [
        "# Task 3: Visualize the Data Using Table-Based Plots (1 Mark)\n",
        "\n",
        "- Create a bar chart showing the average pm25 levels for each borough using .barh().\n",
        "- Create a scatter plot to visualize the relationship between temperature and pm25 using .scatter(). Add appropriate labels and a title to the plot.\n",
        "- Create a histogram of humidity values across all neighborhoods using .hist()."
      ]
    },
    {
      "cell_type": "code",
      "execution_count": 25,
      "metadata": {
        "colab": {
          "base_uri": "https://localhost:8080/",
          "height": 410
        },
        "id": "VmtwpcQPqt8V",
        "outputId": "b5e10090-2076-4de9-a48d-e7371ea2ceb5"
      },
      "outputs": [
        {
          "output_type": "display_data",
          "data": {
            "text/plain": [
              "<Figure size 600x400 with 1 Axes>"
            ],
            "image/png": "[encoded data removed]"
          },
          "metadata": {}
        }
      ],
      "source": [
        "borough_mean_pm25.sort(\"pm25 mean\").barh(\"borough\")"
      ]
    },
    {
      "cell_type": "code",
      "execution_count": 26,
      "metadata": {
        "colab": {
          "base_uri": "https://localhost:8080/",
          "height": 491
        },
        "id": "dQnWL6xpqt8V",
        "outputId": "0f25cd2b-bfb3-4a33-aee3-c595c80339e8"
      },
      "outputs": [
        {
          "output_type": "display_data",
          "data": {
            "text/plain": [
              "<Figure size 500x500 with 1 Axes>"
            ],
            "image/png": "[encoded data removed]"
          },
          "metadata": {}
        }
      ],
      "source": [
        "merged_table.scatter(\"temperature\",\"pm25\")"
      ]
    },
    {
      "cell_type": "code",
      "source": [
        "#to show the graph without the out layers to be able to see the actual relation \"pm25\",are.below(2000)\n",
        "merged_table.where(\"temperature\",are.below(2000)).where(\"pm25\",are.below(2000)).scatter(\"temperature\",\"pm25\")"
      ],
      "metadata": {
        "colab": {
          "base_uri": "https://localhost:8080/",
          "height": 491
        },
        "id": "clPq_Rli4ACV",
        "outputId": "f2cce346-444e-4d4b-8ccf-65e6b543e3db"
      },
      "execution_count": 33,
      "outputs": [
        {
          "output_type": "display_data",
          "data": {
            "text/plain": [
              "<Figure size 500x500 with 1 Axes>"
            ],
            "image/png": "[encoded data removed]"
          },
          "metadata": {}
        }
      ]
    },
    {
      "cell_type": "code",
      "source": [
        "#to show the graph without the out layers to be able to see the actual relation \"pm25\",are.below(600)\n",
        "merged_table.where(\"temperature\",are.below(2000)).where(\"pm25\",are.below(600)).scatter(\"temperature\",\"pm25\")"
      ],
      "metadata": {
        "colab": {
          "base_uri": "https://localhost:8080/",
          "height": 491
        },
        "id": "I-vQPIv554iJ",
        "outputId": "e3bc6837-3fbc-4542-e372-2796021db29c"
      },
      "execution_count": 34,
      "outputs": [
        {
          "output_type": "display_data",
          "data": {
            "text/plain": [
              "<Figure size 500x500 with 1 Axes>"
            ],
            "image/png": "[encoded data removed]"
          },
          "metadata": {}
        }
      ]
    },
    {
      "cell_type": "code",
      "execution_count": 35,
      "metadata": {
        "colab": {
          "base_uri": "https://localhost:8080/",
          "height": 410
        },
        "id": "Kd3KDU5Xqt8W",
        "outputId": "3358d6f3-f790-46ce-e96f-b35cabdedaa0"
      },
      "outputs": [
        {
          "output_type": "display_data",
          "data": {
            "text/plain": [
              "<Figure size 600x400 with 1 Axes>"
            ],
            "image/png": "[encoded data removed]"
          },
          "metadata": {}
        }
      ],
      "source": [
        "merged_table.hist(\"humidity\")"
      ]
    },
    {
      "cell_type": "markdown",
      "metadata": {
        "id": "xTWFUDGX1v1F"
      },
      "source": [
        "# Task 4: Define and Use Functions with Tables (1 Mark)\n",
        "\n",
        "- Write a function calculate_pm25_category(pm25) that categorizes PM2.5 levels as follows:\n",
        "\"Good\" if pm25 < 12\n",
        "\"Moderate\" if 12 <= pm25 < 35\n",
        "\"Unhealthy\" if pm25 >= 35\n",
        "- Apply this function to the pm25 column in the table using .apply() to create a new column called PM25_Category.\n",
        "- Count the number of sensors in each PM2.5 category and display the results using .group().\n"
      ]
    },
    {
      "cell_type": "code",
      "execution_count": 36,
      "metadata": {
        "id": "IJFH-1b3qt8W"
      },
      "outputs": [],
      "source": [
        "def calculate_pm25_category(pm25):\n",
        "    if pm25<12:\n",
        "        return \"Good\"\n",
        "    elif 12 <= pm25 and pm25 < 32:\n",
        "        return \"Moderate\"\n",
        "    else:\n",
        "        return \"Unhealthy\""
      ]
    },
    {
      "cell_type": "code",
      "execution_count": 37,
      "metadata": {
        "colab": {
          "base_uri": "https://localhost:8080/",
          "height": 429
        },
        "id": "sRGrkZsoqt8W",
        "outputId": "a3a782f6-b9b8-4703-9c17-16310e77030f"
      },
      "outputs": [
        {
          "output_type": "display_data",
          "data": {
            "text/plain": [
              "<IPython.core.display.HTML object>"
            ],
            "text/html": [
              "<table border=\"1\" class=\"dataframe\">\n",
              "    <thead>\n",
              "        <tr>\n",
              "            <th>SensorID</th> <th>time</th> <th>latitude</th> <th>longitude</th> <th>bin0</th> <th>bin1</th> <th>bin2</th> <th>bin3</th> <th>bin4</th> <th>bin5</th> <th>bin6</th> <th>bin7</th> <th>bin8</th> <th>bin9</th> <th>bin10</th> <th>bin11</th> <th>bin12</th> <th>bin13</th> <th>bin14</th> <th>bin15</th> <th>bin16</th> <th>bin17</th> <th>bin18</th> <th>bin19</th> <th>bin20</th> <th>bin21</th> <th>bin22</th> <th>bin23</th> <th>temperature</th> <th>humidity</th> <th>pm1</th> <th>pm25</th> <th>pm10</th> <th>geometry</th> <th>PM25_Categoty</th>\n",
              "        </tr>\n",
              "    </thead>\n",
              "    <tbody>\n",
              "        <tr>\n",
              "            <td>NYCP1_01A</td> <td>1579618560</td> <td>40.8472 </td> <td>-73.8701 </td> <td>23  </td> <td>1   </td> <td>2   </td> <td>0   </td> <td>0   </td> <td>0   </td> <td>1   </td> <td>0   </td> <td>0   </td> <td>0   </td> <td>0    </td> <td>0    </td> <td>0    </td> <td>0    </td> <td>0    </td> <td>0    </td> <td>0    </td> <td>0    </td> <td>0    </td> <td>0    </td> <td>0    </td> <td>0    </td> <td>0    </td> <td>0    </td> <td>16.3       </td> <td>15.2    </td> <td>1.44</td> <td>5.91</td> <td>11.35</td> <td>POINT (-73.870087 40.847183)</td> <td>Good         </td>\n",
              "        </tr>\n",
              "        <tr>\n",
              "            <td>NYCP1_01A</td> <td>1579618560</td> <td>40.8472 </td> <td>-73.8701 </td> <td>18  </td> <td>2   </td> <td>1   </td> <td>0   </td> <td>0   </td> <td>0   </td> <td>0   </td> <td>0   </td> <td>0   </td> <td>0   </td> <td>0    </td> <td>0    </td> <td>0    </td> <td>0    </td> <td>0    </td> <td>0    </td> <td>0    </td> <td>0    </td> <td>0    </td> <td>0    </td> <td>0    </td> <td>0    </td> <td>0    </td> <td>0    </td> <td>16.2       </td> <td>15.1    </td> <td>1.05</td> <td>1.18</td> <td>1.18 </td> <td>POINT (-73.870094 40.847183)</td> <td>Good         </td>\n",
              "        </tr>\n",
              "        <tr>\n",
              "            <td>NYCP1_01A</td> <td>1579618560</td> <td>40.8472 </td> <td>-73.8701 </td> <td>18  </td> <td>1   </td> <td>0   </td> <td>0   </td> <td>0   </td> <td>0   </td> <td>0   </td> <td>0   </td> <td>0   </td> <td>0   </td> <td>0    </td> <td>0    </td> <td>0    </td> <td>0    </td> <td>0    </td> <td>0    </td> <td>0    </td> <td>0    </td> <td>0    </td> <td>0    </td> <td>0    </td> <td>0    </td> <td>0    </td> <td>0    </td> <td>16.1       </td> <td>15.1    </td> <td>0.74</td> <td>0.76</td> <td>0.76 </td> <td>POINT (-73.870094 40.847179)</td> <td>Good         </td>\n",
              "        </tr>\n",
              "        <tr>\n",
              "            <td>NYCP1_01A</td> <td>1579618560</td> <td>40.8472 </td> <td>-73.8701 </td> <td>18  </td> <td>1   </td> <td>2   </td> <td>0   </td> <td>0   </td> <td>0   </td> <td>0   </td> <td>0   </td> <td>1   </td> <td>0   </td> <td>0    </td> <td>0    </td> <td>0    </td> <td>0    </td> <td>0    </td> <td>0    </td> <td>0    </td> <td>0    </td> <td>0    </td> <td>0    </td> <td>0    </td> <td>0    </td> <td>0    </td> <td>0    </td> <td>16.1       </td> <td>15.2    </td> <td>1.15</td> <td>4.48</td> <td>47.36</td> <td>POINT (-73.870094 40.847179)</td> <td>Good         </td>\n",
              "        </tr>\n",
              "        <tr>\n",
              "            <td>NYCP1_01A</td> <td>1579618560</td> <td>40.8472 </td> <td>-73.8701 </td> <td>20  </td> <td>3   </td> <td>0   </td> <td>2   </td> <td>2   </td> <td>0   </td> <td>0   </td> <td>0   </td> <td>0   </td> <td>0   </td> <td>0    </td> <td>0    </td> <td>0    </td> <td>0    </td> <td>0    </td> <td>0    </td> <td>0    </td> <td>0    </td> <td>0    </td> <td>0    </td> <td>0    </td> <td>0    </td> <td>0    </td> <td>0    </td> <td>16         </td> <td>15.2    </td> <td>2.13</td> <td>5.77</td> <td>6.18 </td> <td>POINT (-73.870094 40.847179)</td> <td>Good         </td>\n",
              "        </tr>\n",
              "    </tbody>\n",
              "</table>\n",
              "<p>... (118760 rows omitted)</p>"
            ]
          },
          "metadata": {}
        }
      ],
      "source": [
        "new_pm10_table=pm10_table.with_column(\"PM25_Categoty\",pm10_table.apply(calculate_pm25_category,\"pm25\"))\n",
        "new_pm10_table.show(5)"
      ]
    },
    {
      "cell_type": "code",
      "execution_count": 38,
      "metadata": {
        "colab": {
          "base_uri": "https://localhost:8080/",
          "height": 143
        },
        "id": "gxoDDzXxqt8W",
        "outputId": "13a9a144-74ba-489d-f229-a7cf1acc92f9"
      },
      "outputs": [
        {
          "output_type": "execute_result",
          "data": {
            "text/plain": [
              "PM25_Categoty | count\n",
              "Good          | 102117\n",
              "Moderate      | 12218\n",
              "Unhealthy     | 4430"
            ],
            "text/html": [
              "<table border=\"1\" class=\"dataframe\">\n",
              "    <thead>\n",
              "        <tr>\n",
              "            <th>PM25_Categoty</th> <th>count</th>\n",
              "        </tr>\n",
              "    </thead>\n",
              "    <tbody>\n",
              "        <tr>\n",
              "            <td>Good         </td> <td>102117</td>\n",
              "        </tr>\n",
              "        <tr>\n",
              "            <td>Moderate     </td> <td>12218 </td>\n",
              "        </tr>\n",
              "        <tr>\n",
              "            <td>Unhealthy    </td> <td>4430  </td>\n",
              "        </tr>\n",
              "    </tbody>\n",
              "</table>"
            ]
          },
          "metadata": {},
          "execution_count": 38
        }
      ],
      "source": [
        "new_pm10_table.select(\"SensorID\",\"PM25_Categoty\").group(\"PM25_Categoty\")"
      ]
    },
    {
      "cell_type": "code",
      "execution_count": 39,
      "metadata": {
        "colab": {
          "base_uri": "https://localhost:8080/",
          "height": 81
        },
        "id": "AZ0NOwBEqt8X",
        "outputId": "cc62330a-762f-4116-d466-04c9605ad845"
      },
      "outputs": [
        {
          "output_type": "execute_result",
          "data": {
            "text/plain": [
              "SensorID  | Good   | Moderate | Unhealthy\n",
              "NYCP1_01A | 102117 | 12218    | 4430"
            ],
            "text/html": [
              "<table border=\"1\" class=\"dataframe\">\n",
              "    <thead>\n",
              "        <tr>\n",
              "            <th>SensorID</th> <th>Good</th> <th>Moderate</th> <th>Unhealthy</th>\n",
              "        </tr>\n",
              "    </thead>\n",
              "    <tbody>\n",
              "        <tr>\n",
              "            <td>NYCP1_01A</td> <td>102117</td> <td>12218   </td> <td>4430     </td>\n",
              "        </tr>\n",
              "    </tbody>\n",
              "</table>"
            ]
          },
          "metadata": {},
          "execution_count": 39
        }
      ],
      "source": [
        "new_pm10_table.select(\"SensorID\",\"PM25_Categoty\").pivot(\"PM25_Categoty\",\"SensorID\")"
      ]
    },
    {
      "cell_type": "markdown",
      "metadata": {
        "id": "QPc8TD9i2CCu"
      },
      "source": [
        "# Task 5: Simulate Random Sampling Using Tables (1 Mark)\n",
        "- Randomly sample 10% of the rows from the table without replacement using .sample().\n",
        "- Calculate the mean pm25 level for the sampled data.\n",
        "- Repeat the random sampling process 100 times and store the mean pm25 values from each iteration in a list.\n",
        "- Create a histogram of the 100 mean pm25 values to visualize the distribution of sample means."
      ]
    },
    {
      "cell_type": "code",
      "execution_count": 40,
      "metadata": {
        "colab": {
          "base_uri": "https://localhost:8080/",
          "height": 410
        },
        "id": "WXy7ax-Oqt8Y",
        "outputId": "74372c92-7f56-4f09-fe74-f8e20c53064a"
      },
      "outputs": [
        {
          "output_type": "display_data",
          "data": {
            "text/plain": [
              "<Figure size 600x400 with 1 Axes>"
            ],
            "image/png": "[encoded data removed]"
          },
          "metadata": {}
        }
      ],
      "source": [
        "sample_means = []\n",
        "\n",
        "\n",
        "for i in range(100):\n",
        "    sample = pm10_table.sample(k=int(0.1 * pm10_table.num_rows), with_replacement=False)\n",
        "    sample_mean_pm25 = np.mean(sample.column(\"pm25\"))\n",
        "    sample_means.append(sample_mean_pm25)\n",
        "\n",
        "\n",
        "sample_means_table = Table().with_columns(\n",
        "    \"Sample Mean PM2.5\", sample_means\n",
        ")\n",
        "\n",
        "sample_means_table.hist(\"Sample Mean PM2.5\")"
      ]
    },
    {
      "cell_type": "markdown",
      "metadata": {
        "id": "0vrfqWLFqt8Y"
      },
      "source": [
        "# Mahmoud S. M. Madi  |  U23103334"
      ]
    },
    {
      "cell_type": "markdown",
      "metadata": {
        "id": "kM16Gy602H1X"
      },
      "source": [
        "# Submission Guidelines\n",
        "- Add a \"Open in Colab\" button at the top of your notebook using the following Markdown code:\n",
        "[![Open In Colab](https://colab.research.google.com/assets/colab-badge.svg)](https://colab.research.google.com/github/your-repo-path/notebook.ipynb)\n",
        "\n",
        "- Upload your completed Jupyter Notebook to a GitHub repository.\n",
        "- Submit the link to your GitHub repository in the Blackboard LMS along with the Jupyter solution file.\n",
        "- <font color = red size = 6> ATTENTION!!! </font> Students are encouraged to work on groups, however the submission should be individual and each student should have her/his own unique final assignment solution, which is to be submitted in BB"
      ]
    },
    {
      "cell_type": "markdown",
      "metadata": {
        "id": "dY2-OB4A2huX"
      },
      "source": [
        "# Grading Rubric\n",
        "- Each task is worth 1 mark , based on the following criteria:\n",
        "\n",
        "- Correctness : The solution produces the expected output using the Table abstraction .\n",
        "- Clarity : Code is well-organized, readable, and includes comments explaining key steps.\n",
        "- Creativity : Visualizations and analyses are presented in an engaging and insightful manner."
      ]
    },
    {
      "cell_type": "markdown",
      "metadata": {
        "id": "0GlfWQnV2r9v"
      },
      "source": [
        "# Hints for Success\n",
        "- Use the Table abstraction methods like .select(), .where(), .group(), .apply(), and .sample() for data manipulation.\n",
        "- Refer to the slides and examples from book Chapters 6, 7, 8, and 9 for guidance on tables, functions, visualizations, and randomness.\n",
        "- Test your code frequently to ensure it runs without errors."
      ]
    }
  ],
  "metadata": {
    "colab": {
      "provenance": [],
      "include_colab_link": true
    },
    "kernelspec": {
      "display_name": "Python 3",
      "language": "python",
      "name": "python3"
    },
    "language_info": {
      "codemirror_mode": {
        "name": "ipython",
        "version": 3
      },
      "file_extension": ".py",
      "mimetype": "text/x-python",
      "name": "python",
      "nbconvert_exporter": "python",
      "pygments_lexer": "ipython3",
      "version": "3.9.13"
    }
  },
  "nbformat": 4,
  "nbformat_minor": 0
}